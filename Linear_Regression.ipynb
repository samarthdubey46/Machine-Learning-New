{
 "cells": [
  {
   "cell_type": "code",
   "execution_count": 27,
   "metadata": {
    "collapsed": true
   },
   "outputs": [],
   "source": [
    "import tensorflow as tf\n",
    "import numpy as np\n",
    "import matplotlib.pyplot as plt\n",
    "import pandas as pd\n",
    "from IPython.display import clear_output\n"
   ]
  },
  {
   "cell_type": "code",
   "execution_count": 28,
   "metadata": {},
   "outputs": [],
   "source": [
    "dftrain = pd.read_csv('https://storage.googleapis.com/tf-datasets/titanic/train.csv') # training data\n",
    "df_eval = pd.read_csv('https://storage.googleapis.com/tf-datasets/titanic/eval.csv')\n",
    "y_train = dftrain.pop('survived')\n",
    "y_eval = df_eval.pop('survived')\n",
    "# print(y_eval)\n",
    "clear_output()"
   ]
  },
  {
   "cell_type": "code",
   "execution_count": 29,
   "outputs": [
    {
     "name": "stdout",
     "output_type": "stream",
     "text": [
      "NumericColumn(key='age', shape=(1,), default_value=None, dtype=tf.float32, normalizer_fn=None)\n"
     ]
    }
   ],
   "source": [
    "CATEGORICAL_COLUMNS = ['sex', 'n_siblings_spouses', 'parch', 'class', 'deck',\n",
    "                       'embark_town', 'alone']\n",
    "NUMERIC_COLUMNS = ['age', 'fare']\n",
    "\n",
    "feature_columns = []\n",
    "for i in CATEGORICAL_COLUMNS:\n",
    "    vocabulary = dftrain[i].unique()\n",
    "    feature_columns.append(tf.feature_column.categorical_column_with_vocabulary_list(i,vocabulary))\n",
    "for i in NUMERIC_COLUMNS:\n",
    "    feature_columns.append(tf.feature_column.numeric_column(i,dtype=tf.float32))\n",
    "print(feature_columns[7])"
   ],
   "metadata": {
    "collapsed": false,
    "pycharm": {
     "name": "#%%\n"
    }
   }
  },
  {
   "cell_type": "code",
   "execution_count": 30,
   "outputs": [
    {
     "name": "stdout",
     "output_type": "stream",
     "text": [
      "INFO:tensorflow:Using default config.\n",
      "WARNING:tensorflow:Using temporary folder as model directory: /tmp/tmp34ahymv9\n",
      "INFO:tensorflow:Using config: {'_model_dir': '/tmp/tmp34ahymv9', '_tf_random_seed': None, '_save_summary_steps': 100, '_save_checkpoints_steps': None, '_save_checkpoints_secs': 600, '_session_config': allow_soft_placement: true\n",
      "graph_options {\n",
      "  rewrite_options {\n",
      "    meta_optimizer_iterations: ONE\n",
      "  }\n",
      "}\n",
      ", '_keep_checkpoint_max': 5, '_keep_checkpoint_every_n_hours': 10000, '_log_step_count_steps': 100, '_train_distribute': None, '_device_fn': None, '_protocol': None, '_eval_distribute': None, '_experimental_distribute': None, '_experimental_max_worker_delay_secs': None, '_session_creation_timeout_secs': 7200, '_service': None, '_cluster_spec': ClusterSpec({}), '_task_type': 'worker', '_task_id': 0, '_global_id_in_cluster': 0, '_master': '', '_evaluation_master': '', '_is_chief': True, '_num_ps_replicas': 0, '_num_worker_replicas': 1}\n",
      "INFO:tensorflow:Calling model_fn.\n",
      "WARNING:tensorflow:Layer linear/linear_model is casting an input tensor from dtype float64 to the layer's dtype of float32, which is new behavior in TensorFlow 2.  The layer has dtype float32 because its dtype defaults to floatx.\n",
      "\n",
      "If you intended to run this layer in float32, you can safely ignore this warning. If in doubt, this warning is likely only an issue if you are porting a TensorFlow 1.X model to TensorFlow 2.\n",
      "\n",
      "To change all layers to have dtype float64 by default, call `tf.keras.backend.set_floatx('float64')`. To change just this layer, pass dtype='float64' to the layer constructor. If you are the author of this layer, you can disable autocasting by passing autocast=False to the base Layer constructor.\n",
      "\n",
      "INFO:tensorflow:Done calling model_fn.\n",
      "INFO:tensorflow:Create CheckpointSaverHook.\n",
      "INFO:tensorflow:Graph was finalized.\n",
      "INFO:tensorflow:Running local_init_op.\n",
      "INFO:tensorflow:Done running local_init_op.\n",
      "INFO:tensorflow:Calling checkpoint listeners before saving checkpoint 0...\n",
      "INFO:tensorflow:Saving checkpoints for 0 into /tmp/tmp34ahymv9/model.ckpt.\n",
      "INFO:tensorflow:Calling checkpoint listeners after saving checkpoint 0...\n",
      "INFO:tensorflow:loss = 0.6931472, step = 0\n",
      "INFO:tensorflow:global_step/sec: 510.09\n",
      "INFO:tensorflow:loss = 0.5094317, step = 100 (0.196 sec)\n",
      "INFO:tensorflow:global_step/sec: 1120.49\n",
      "INFO:tensorflow:loss = 0.4588269, step = 200 (0.089 sec)\n",
      "INFO:tensorflow:global_step/sec: 1133.5\n",
      "INFO:tensorflow:loss = 0.44658637, step = 300 (0.088 sec)\n",
      "INFO:tensorflow:Calling checkpoint listeners before saving checkpoint 400...\n",
      "INFO:tensorflow:Saving checkpoints for 400 into /tmp/tmp34ahymv9/model.ckpt.\n",
      "INFO:tensorflow:Calling checkpoint listeners after saving checkpoint 400...\n",
      "INFO:tensorflow:Loss for final step: 0.32919225.\n"
     ]
    },
    {
     "data": {
      "text/plain": "<tensorflow_estimator.python.estimator.canned.linear.LinearClassifierV2 at 0x7f3fb5b59a30>"
     },
     "execution_count": 30,
     "metadata": {},
     "output_type": "execute_result"
    }
   ],
   "source": [
    "def make_Input(dfinputs,dflabels,epochs=20,size=32,shuffle=True):\n",
    "    def take():\n",
    "        da = tf.data.Dataset.from_tensor_slices((dict(dfinputs), dflabels))\n",
    "        if(shuffle):\n",
    "            da.shuffle(1000)\n",
    "        da = da.batch(size).repeat(epochs)\n",
    "        return da\n",
    "    return take\n",
    "\n",
    "train_func = make_Input(dftrain,y_train)\n",
    "eval_func = make_Input(df_eval,y_eval,epochs=1,shuffle=False)\n",
    "linear_est = tf.estimator.LinearClassifier(feature_columns=feature_columns)\n",
    "linear_est.train(train_func)"
   ],
   "metadata": {
    "collapsed": false,
    "pycharm": {
     "name": "#%%\n"
    }
   }
  },
  {
   "cell_type": "code",
   "execution_count": 31,
   "outputs": [
    {
     "name": "stdout",
     "output_type": "stream",
     "text": [
      "0.7651515\n"
     ]
    }
   ],
   "source": [
    "res = linear_est.evaluate(eval_func)\n",
    "clear_output()\n",
    "print(res['accuracy'])"
   ],
   "metadata": {
    "collapsed": false,
    "pycharm": {
     "name": "#%%\n"
    }
   }
  },
  {
   "cell_type": "code",
   "execution_count": 34,
   "metadata": {},
   "outputs": [
    {
     "name": "stdout",
     "output_type": "stream",
     "text": [
      "0.0 => 0\n",
      "0.0 => 0\n",
      "1.0 => 1\n",
      "1.0 => 1\n",
      "0.0 => 1\n",
      "1.0 => 1\n",
      "1.0 => 0\n",
      "0.0 => 0\n",
      "1.0 => 0\n",
      "1.0 => 1\n",
      "1.0 => 1\n",
      "0.0 => 0\n",
      "1.0 => 1\n",
      "0.0 => 0\n",
      "1.0 => 1\n",
      "1.0 => 0\n",
      "0.0 => 0\n",
      "1.0 => 1\n",
      "0.0 => 1\n",
      "0.0 => 0\n",
      "0.0 => 0\n",
      "0.0 => 0\n",
      "1.0 => 1\n",
      "0.0 => 0\n",
      "1.0 => 0\n"
     ]
    }
   ],
   "source": [
    "prediction = list(linear_est.predict(eval_func))\n",
    "clear_output()\n",
    "for i in range(25):\n",
    "    print(f\"{round(prediction[i]['probabilities'][1])} => {y_eval[i]}\")"
   ]
  }
 ],
 "metadata": {
  "kernelspec": {
   "display_name": "Python 3",
   "language": "python",
   "name": "python3"
  },
  "language_info": {
   "codemirror_mode": {
    "name": "ipython",
    "version": 2
   },
   "file_extension": ".py",
   "mimetype": "text/x-python",
   "name": "python",
   "nbconvert_exporter": "python",
   "pygments_lexer": "ipython2",
   "version": "3.8.5-final"
  }
 },
 "nbformat": 4,
 "nbformat_minor": 0
}