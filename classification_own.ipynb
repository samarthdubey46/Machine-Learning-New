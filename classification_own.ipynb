{
 "cells": [
  {
   "cell_type": "code",
   "execution_count": 2,
   "metadata": {
    "collapsed": true
   },
   "outputs": [],
   "source": [
    "import tensorflow as tf\n",
    "import pandas as pd\n",
    "from IPython.display import clear_output"
   ]
  },
  {
   "cell_type": "code",
   "execution_count": 3,
   "outputs": [],
   "source": [
    "CSV_COLUMN_NAMES = ['SepalLength', 'SepalWidth', 'PetalLength', 'PetalWidth', 'Species']\n",
    "SPECIES = ['Setosa', 'Versicolor', 'Virginica']\n",
    "train_path = tf.keras.utils.get_file(\n",
    "    \"iris_training.csv\", \"https://storage.googleapis.com/download.tensorflow.org/data/iris_training.csv\")\n",
    "test_path = tf.keras.utils.get_file(\n",
    "    \"iris_test.csv\", \"https://storage.googleapis.com/download.tensorflow.org/data/iris_test.csv\")\n",
    "train = pd.read_csv(train_path,names=CSV_COLUMN_NAMES,header=0)\n",
    "test = pd.read_csv(test_path,names=CSV_COLUMN_NAMES,header=0)\n",
    "y_train = train.pop('Species')\n",
    "y_test = test.pop('Species')\n",
    "# train.head()\n"
   ],
   "metadata": {
    "collapsed": false,
    "pycharm": {
     "name": "#%%\n"
    }
   }
  },
  {
   "cell_type": "code",
   "execution_count": 4,
   "outputs": [],
   "source": [
    "Feature_Columns = []\n",
    "for i in train.keys():\n",
    "    Feature_Columns.append(tf.feature_column.numeric_column(i))\n",
    "# print(Feature_Columns)"
   ],
   "metadata": {
    "collapsed": false,
    "pycharm": {
     "name": "#%%\n"
    }
   }
  },
  {
   "cell_type": "code",
   "execution_count": 5,
   "outputs": [],
   "source": [
    "def make_input(data,labels,shuffle=True,batch_size=256):\n",
    "    ds = tf.data.Dataset.from_tensor_slices((dict(data),labels))\n",
    "    if shuffle:\n",
    "        ds = ds.shuffle(1000).repeat()\n",
    "    ds = ds.batch(batch_size)\n",
    "    return ds\n"
   ],
   "metadata": {
    "collapsed": false,
    "pycharm": {
     "name": "#%%\n"
    }
   }
  },
  {
   "cell_type": "code",
   "execution_count": 6,
   "outputs": [],
   "source": [
    "classifier = tf.estimator.DNNClassifier(feature_columns=Feature_Columns,n_classes=3,hidden_units=[30,10])\n",
    "classifier.train(input_fn=lambda: make_input(train,y_train),steps=9000)\n",
    "clear_output()"
   ],
   "metadata": {
    "collapsed": false,
    "pycharm": {
     "name": "#%%\n"
    }
   }
  },
  {
   "cell_type": "code",
   "execution_count": 7,
   "outputs": [
    {
     "name": "stdout",
     "output_type": "stream",
     "text": [
      "0.9\n"
     ]
    }
   ],
   "source": [
    "eval = classifier.evaluate(input_fn=lambda : make_input(test,y_test,shuffle=False))\n",
    "clear_output()\n",
    "print(eval['accuracy'])"
   ],
   "metadata": {
    "collapsed": false,
    "pycharm": {
     "name": "#%%\n"
    }
   }
  },
  {
   "cell_type": "code",
   "execution_count": null,
   "outputs": [],
   "source": [
    "def make_input_predict(data,batch_size=256):\n",
    "    ds = tf.data.Dataset.from_tensor_slices((dict(data))).batch(batch_size=batch_size)\n",
    "    return ds\n",
    "\n",
    "\n",
    "features = ['SepalLength', 'SepalWidth', 'PetalLength', 'PetalWidth']\n",
    "predict = {}\n",
    "for i in features:\n",
    "    isValid = True\n",
    "    while isValid:\n",
    "        val = input(i)\n",
    "        if val.isdigit():isValid=False\n",
    "    predict[i] = [float(val)]\n",
    "\n",
    "predict_x = {\n",
    "    'SepalLength': [5.1, 5.9, 6.9],\n",
    "    'SepalWidth': [3.3, 3.0, 3.1],\n",
    "    'PetalLength': [1.7, 4.2, 5.4],\n",
    "    'PetalWidth': [0.5, 1.5, 2.1],\n",
    "}\n",
    "\n",
    "\n",
    "predictions = classifier.predict(input_fn=lambda: make_input_predict(predict))\n",
    "clear_output()\n",
    "\n",
    "for i in predictions:\n",
    "    class_id = i['class_ids'][0]\n",
    "    probability = i['probabilities'][class_id]\n",
    "    print(f\"{features[class_id]} => {probability*100}\")\n"
   ],
   "metadata": {
    "collapsed": false,
    "pycharm": {
     "name": "#%%\n",
     "is_executing": true
    }
   }
  }
 ],
 "metadata": {
  "kernelspec": {
   "display_name": "Python 3",
   "language": "python",
   "name": "python3"
  },
  "language_info": {
   "codemirror_mode": {
    "name": "ipython",
    "version": 2
   },
   "file_extension": ".py",
   "mimetype": "text/x-python",
   "name": "python",
   "nbconvert_exporter": "python",
   "pygments_lexer": "ipython2",
   "version": "2.7.6"
  }
 },
 "nbformat": 4,
 "nbformat_minor": 0
}