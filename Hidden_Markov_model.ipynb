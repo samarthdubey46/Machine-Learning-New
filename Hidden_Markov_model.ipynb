{
 "cells": [
  {
   "cell_type": "code",
   "execution_count": 2,
   "metadata": {
    "collapsed": true
   },
   "outputs": [],
   "source": [
    "import tensorflow as tf\n",
    "import tensorflow_probability as tpf"
   ]
  },
  {
   "cell_type": "code",
   "execution_count": 9,
   "outputs": [],
   "source": [
    "tfd = tpf.distributions\n",
    "initial_state = tfd.Categorical(probs=[.4,.5])\n",
    "transition_state = tfd.Categorical(probs=[[.5,.5],[.2,.5]])\n",
    "obersvation_dist = tfd.Normal(loc=[0.,12.],scale=[18.,20.])\n"
   ],
   "metadata": {
    "collapsed": false,
    "pycharm": {
     "name": "#%%\n"
    }
   }
  },
  {
   "cell_type": "code",
   "execution_count": 10,
   "outputs": [
    {
     "name": "stdout",
     "output_type": "stream",
     "text": [
      "[6.666667  7.4285717 7.591837  7.626822  7.6343193 7.6359253 7.636269 ]\n"
     ]
    }
   ],
   "source": [
    "model = tfd.HiddenMarkovModel(initial_distribution=initial_state,\n",
    "                              transition_distribution=transition_state,\n",
    "                              observation_distribution=obersvation_dist,num_steps=7)\n",
    "\n",
    "s = model.mean()\n",
    "\n",
    "with tf.compat.v1.Session():\n",
    "    print(s.numpy())\n",
    "\n"
   ],
   "metadata": {
    "collapsed": false,
    "pycharm": {
     "name": "#%%\n"
    }
   }
  }
 ],
 "metadata": {
  "kernelspec": {
   "display_name": "Python 3",
   "language": "python",
   "name": "python3"
  },
  "language_info": {
   "codemirror_mode": {
    "name": "ipython",
    "version": 2
   },
   "file_extension": ".py",
   "mimetype": "text/x-python",
   "name": "python",
   "nbconvert_exporter": "python",
   "pygments_lexer": "ipython2",
   "version": "2.7.6"
  }
 },
 "nbformat": 4,
 "nbformat_minor": 0
}